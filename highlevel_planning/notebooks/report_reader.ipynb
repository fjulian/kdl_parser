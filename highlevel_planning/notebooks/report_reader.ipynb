{
 "cells": [
  {
   "cell_type": "code",
   "execution_count": null,
   "metadata": {
    "collapsed": true
   },
   "outputs": [],
   "source": [
    "import pickle\n",
    "import os"
   ]
  },
  {
   "cell_type": "code",
   "execution_count": null,
   "outputs": [],
   "source": [
    "# basedir = os.path.join(\n",
    "#         os.getenv(\"HOME\"),\n",
    "#         \"Polybox\",\n",
    "#         \"PhD\",\n",
    "#         \"Publications\",\n",
    "#         \"2021 ICRA HLP\",\n",
    "#         \"Second try\",\n",
    "#         \"qualitative_experiments\",\n",
    "#     )\n",
    "# report_dir = os.path.join(basedir, \"201006-193900\")\n",
    "\n",
    "basedir = os.path.join(os.path.expanduser(\"~\"), \"Data\", \"highlevel_planning\")\n",
    "report_dir = os.path.join(basedir, \"reports\")\n",
    "\n",
    "files = os.listdir(report_dir)\n"
   ],
   "metadata": {
    "collapsed": false,
    "pycharm": {
     "name": "#%%\n"
    }
   }
  },
  {
   "cell_type": "code",
   "execution_count": null,
   "outputs": [],
   "source": [
    "files.sort()\n",
    "rm_idx = list()\n",
    "for idx, f in enumerate(files):\n",
    "    if not f.endswith(\".pkl\"):\n",
    "        rm_idx.append(idx)\n",
    "rm_idx.sort(reverse=True)\n",
    "for idx in rm_idx:\n",
    "    del files[idx]\n",
    "for idx, f in enumerate(files):\n",
    "    print(f\"{idx}: {f}\")\n"
   ],
   "metadata": {
    "collapsed": false,
    "pycharm": {
     "name": "#%%\n"
    },
    "tags": []
   }
  },
  {
   "cell_type": "code",
   "execution_count": null,
   "outputs": [],
   "source": [
    "idx = input(\"Pick a file number: \")\n",
    "idx = int(idx)\n",
    "with open(os.path.join(report_dir, files[idx]), \"rb\") as f:\n",
    "    data = pickle.load(f)"
   ],
   "metadata": {
    "collapsed": false,
    "pycharm": {
     "name": "#%%\n"
    }
   }
  },
  {
   "cell_type": "code",
   "execution_count": null,
   "outputs": [],
   "source": [
    "data[\"explore_0_kb_before\"].types"
   ],
   "metadata": {
    "collapsed": false,
    "pycharm": {
     "name": "#%%\n"
    }
   }
  },
  {
   "cell_type": "code",
   "execution_count": null,
   "metadata": {},
   "outputs": [],
   "source": [
    "data[\"explore_0_kb_after\"].types"
   ]
  },
  {
   "cell_type": "code",
   "execution_count": null,
   "metadata": {},
   "outputs": [],
   "source": []
  }
 ],
 "metadata": {
  "kernelspec": {
   "display_name": "Python 3",
   "language": "python",
   "name": "python3"
  },
  "language_info": {
   "codemirror_mode": {
    "name": "ipython",
    "version": 2
   },
   "file_extension": ".py",
   "mimetype": "text/x-python",
   "name": "python",
   "nbconvert_exporter": "python",
   "pygments_lexer": "ipython2",
   "version": "3.8.2-final"
  }
 },
 "nbformat": 4,
 "nbformat_minor": 0
}