{
 "cells": [
  {
   "cell_type": "code",
   "execution_count": 3,
   "metadata": {
    "collapsed": true
   },
   "outputs": [],
   "source": [
    "import pickle\n",
    "import os"
   ]
  },
  {
   "cell_type": "code",
   "execution_count": 4,
   "outputs": [],
   "source": [
    "basedir = os.path.join(\n",
    "        os.getenv(\"HOME\"),\n",
    "        \"Polybox\",\n",
    "        \"PhD\",\n",
    "        \"Publications\",\n",
    "        \"2021 ICRA HLP\",\n",
    "        \"First try\",\n",
    "        \"Experiments\",\n",
    "        \"Repeated\"\n",
    "    )\n",
    "report_dir = os.path.join(basedir, \"201006-193900\")\n",
    "\n",
    "# basedir = os.path.join(os.path.expanduser(\"~\"), \"Data\", \"highlevel_planning\")\n",
    "# report_dir = os.path.join(basedir, \"reports\")\n",
    "\n",
    "files = os.listdir(report_dir)\n"
   ],
   "metadata": {
    "collapsed": false,
    "pycharm": {
     "name": "#%%\n"
    }
   }
  },
  {
   "cell_type": "code",
   "execution_count": 5,
   "outputs": [
    {
     "name": "stdout",
     "output_type": "stream",
     "text": [
      "0: 210507-134932_data.pkl\n",
      "1: 210507-134937_data.pkl\n",
      "2: 210507-134942_data.pkl\n",
      "3: 210507-134948_data.pkl\n",
      "4: 210507-134953_data.pkl\n",
      "5: 210507-134958_data.pkl\n",
      "6: 210507-135139_data.pkl\n",
      "7: 210507-135208_data.pkl\n",
      "8: 210507-135217_data.pkl\n",
      "9: 210507-135314_data.pkl\n",
      "10: 210507-135323_data.pkl\n",
      "11: 210507-135400_data.pkl\n",
      "12: 210507-135437_data.pkl\n",
      "13: 210507-135542_data.pkl\n",
      "14: 210507-135627_data.pkl\n",
      "15: 210507-135744_data.pkl\n",
      "16: 210507-135753_data.pkl\n",
      "17: 210507-135810_data.pkl\n",
      "18: 210507-135843_data.pkl\n",
      "19: 210507-135936_data.pkl\n",
      "20: _domain0.pkl\n",
      "21: _domain0_plan_step_0.pkl\n",
      "22: _domain0_plan_step_1.pkl\n",
      "23: _domain1.pkl\n",
      "24: _domain10.pkl\n",
      "25: _domain10_plan_step_0.pkl\n",
      "26: _domain10_plan_step_1.pkl\n",
      "27: _domain11.pkl\n",
      "28: _domain11_plan_step_0.pkl\n",
      "29: _domain11_plan_step_1.pkl\n",
      "30: _domain12.pkl\n",
      "31: _domain12_plan_step_0.pkl\n",
      "32: _domain12_plan_step_1.pkl\n",
      "33: _domain13.pkl\n",
      "34: _domain13_plan_step_0.pkl\n",
      "35: _domain14.pkl\n",
      "36: _domain14_plan_step_0.pkl\n",
      "37: _domain14_plan_step_1.pkl\n",
      "38: _domain15.pkl\n",
      "39: _domain15_plan_step_0.pkl\n",
      "40: _domain15_plan_step_1.pkl\n",
      "41: _domain16.pkl\n",
      "42: _domain16_plan_step_0.pkl\n",
      "43: _domain16_plan_step_1.pkl\n",
      "44: _domain17.pkl\n",
      "45: _domain17_plan_step_0.pkl\n",
      "46: _domain17_plan_step_1.pkl\n",
      "47: _domain18.pkl\n",
      "48: _domain18_plan_step_0.pkl\n",
      "49: _domain18_plan_step_1.pkl\n",
      "50: _domain19.pkl\n",
      "51: _domain19_plan_step_0.pkl\n",
      "52: _domain19_plan_step_1.pkl\n",
      "53: _domain1_plan_step_0.pkl\n",
      "54: _domain1_plan_step_1.pkl\n",
      "55: _domain2.pkl\n",
      "56: _domain2_plan_step_0.pkl\n",
      "57: _domain2_plan_step_1.pkl\n",
      "58: _domain3.pkl\n",
      "59: _domain3_plan_step_0.pkl\n",
      "60: _domain3_plan_step_1.pkl\n",
      "61: _domain4.pkl\n",
      "62: _domain4_plan_step_0.pkl\n",
      "63: _domain4_plan_step_1.pkl\n",
      "64: _domain5.pkl\n",
      "65: _domain5_plan_step_0.pkl\n",
      "66: _domain5_plan_step_1.pkl\n",
      "67: _domain6.pkl\n",
      "68: _domain6_plan_step_0.pkl\n",
      "69: _domain6_plan_step_1.pkl\n",
      "70: _domain7.pkl\n",
      "71: _domain7_plan_step_0.pkl\n",
      "72: _domain7_plan_step_1.pkl\n",
      "73: _domain8.pkl\n",
      "74: _domain8_plan_step_0.pkl\n",
      "75: _domain8_plan_step_1.pkl\n",
      "76: _domain9.pkl\n",
      "77: _domain9_plan_step_0.pkl\n",
      "78: _domain9_plan_step_1.pkl\n",
      "79: _domain_initial.pkl\n"
     ]
    }
   ],
   "source": [
    "files.sort()\n",
    "rm_idx = list()\n",
    "for idx, f in enumerate(files):\n",
    "    if not f.endswith(\".pkl\"):\n",
    "        rm_idx.append(idx)\n",
    "rm_idx.sort(reverse=True)\n",
    "for idx in rm_idx:\n",
    "    del files[idx]\n",
    "for idx, f in enumerate(files):\n",
    "    print(f\"{idx}: {f}\")\n"
   ],
   "metadata": {
    "collapsed": false,
    "pycharm": {
     "name": "#%%\n"
    },
    "tags": []
   }
  },
  {
   "cell_type": "code",
   "execution_count": 8,
   "outputs": [],
   "source": [
    "idx = input(\"Pick a file number: \")\n",
    "idx = int(idx)\n",
    "with open(os.path.join(report_dir, files[idx]), \"rb\") as f:\n",
    "    data = pickle.load(f)"
   ],
   "metadata": {
    "collapsed": false,
    "pycharm": {
     "name": "#%%\n"
    }
   }
  },
  {
   "cell_type": "code",
   "execution_count": null,
   "outputs": [],
   "source": [
    "data[\"explore_0_kb_before\"].types"
   ],
   "metadata": {
    "collapsed": false,
    "pycharm": {
     "name": "#%%\n"
    }
   }
  },
  {
   "cell_type": "code",
   "execution_count": null,
   "metadata": {},
   "outputs": [],
   "source": [
    "data[\"explore_0_kb_after\"].types"
   ]
  },
  {
   "cell_type": "code",
   "execution_count": null,
   "metadata": {},
   "outputs": [],
   "source": []
  }
 ],
 "metadata": {
  "kernelspec": {
   "display_name": "Python 3",
   "language": "python",
   "name": "python3"
  },
  "language_info": {
   "codemirror_mode": {
    "name": "ipython",
    "version": 2
   },
   "file_extension": ".py",
   "mimetype": "text/x-python",
   "name": "python",
   "nbconvert_exporter": "python",
   "pygments_lexer": "ipython2",
   "version": "3.8.2-final"
  }
 },
 "nbformat": 4,
 "nbformat_minor": 0
}