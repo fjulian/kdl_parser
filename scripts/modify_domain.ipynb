{
 "cells": [
  {
   "cell_type": "code",
   "execution_count": 1,
   "metadata": {},
   "outputs": [],
   "source": [
    "import os\n",
    "import pickle\n",
    "from highlevel_planning.knowledge.knowledge_base import KnowledgeBase"
   ]
  },
  {
   "cell_type": "code",
   "execution_count": 5,
   "metadata": {},
   "outputs": [
    {
     "output_type": "stream",
     "name": "stdout",
     "text": "Trying to load domain file...\nTrying to load domain file... DONE\n"
    }
   ],
   "source": [
    "kb = KnowledgeBase(os.path.join(\"..\",\"knowledge\", \"chimera\"))"
   ]
  },
  {
   "cell_type": "code",
   "execution_count": 6,
   "metadata": {},
   "outputs": [
    {
     "output_type": "execute_result",
     "data": {
      "text/plain": "{'container1': ['item'],\n 'container2': ['item'],\n 'cube1': ['item', 'cube1-200421111455'],\n 'cupboard': ['item', 'cupboard-200421111455'],\n 'lid1': ['cupboard-200421111455'],\n 'origin': ['position'],\n 'position_sample_36': ['position', 'position_sample_36-200421111455'],\n 'position_sample_36-200421111455_sample_8': ['position_sample_36-200421111455'],\n 'robot1': ['robot', 'robot1-200421111455'],\n 'table': ['item']}"
     },
     "metadata": {},
     "execution_count": 6
    }
   ],
   "source": [
    "kb.objects"
   ]
  },
  {
   "cell_type": "code",
   "execution_count": 8,
   "metadata": {},
   "outputs": [
    {
     "output_type": "execute_result",
     "data": {
      "text/plain": "{'cube1-200421111455': 'item',\n 'cupboard-200421111455': 'item',\n 'item': 'navgoal',\n 'navgoal': None,\n 'position': 'navgoal',\n 'position_sample_36-200421111455': 'position',\n 'robot': None,\n 'robot1-200421111455': 'robot'}"
     },
     "metadata": {},
     "execution_count": 8
    }
   ],
   "source": [
    "kb.types"
   ]
  },
  {
   "cell_type": "code",
   "execution_count": 9,
   "metadata": {},
   "outputs": [
    {
     "output_type": "execute_result",
     "data": {
      "text/plain": "{'grasp': {'effects': [('empty-hand', False, ['rob']),\n   ('in-hand', True, ['obj', 'rob'])],\n  'params': [['obj', 'item'], ['rob', 'robot']],\n  'preconds': [('in-reach', True, ['obj', 'rob']),\n   ('empty-hand', True, ['rob'])]},\n 'nav': {'effects': [('in-reach', True, ['goal_pos', 'rob']),\n   ('in-reach', False, ['current_pos', 'rob'])],\n  'params': [['current_pos', 'navgoal'],\n   ['goal_pos', 'navgoal'],\n   ['rob', 'robot']],\n  'preconds': [('in-reach', True, ['current_pos', 'rob'])]},\n 'place': {'effects': [('empty-hand', True, ['rob']),\n   ('in-hand', False, ['obj', 'rob'])],\n  'params': [['obj', 'item'], ['pos', 'position'], ['rob', 'robot']],\n  'preconds': [('in-reach', True, ['pos', 'rob']),\n   ('empty-hand', False, ['rob']),\n   ('in-hand', True, ['obj', 'rob'])]},\n 'place-on-200421111455': {'effects': [('on', True, ('cupboard', 'cube1')),\n   ('empty-hand', True, ('robot1',)),\n   ('in-hand', False, ('cube1', 'robot1'))],\n  'params': [['cupboard', 'cupboard-200421111455'],\n   ['cube1', 'cube1-200421111455'],\n   ['robot1', 'robot1-200421111455'],\n   ['position_sample_36', 'position_sample_36-200421111455']],\n  'preconds': [('in-reach', True, ('position_sample_36', 'robot1')),\n   ('empty-hand', False, ('robot1',)),\n   ('in-hand', True, ('cube1', 'robot1'))]}}"
     },
     "metadata": {},
     "execution_count": 9
    }
   ],
   "source": [
    "kb.actions"
   ]
  },
  {
   "cell_type": "code",
   "execution_count": 10,
   "metadata": {},
   "outputs": [
    {
     "output_type": "execute_result",
     "data": {
      "text/plain": "{'origin': array([0., 0., 0.]),\n 'position_sample_36': array([0.38896336, 2.11381809, 0.78685917]),\n 'position_sample_36-200421111455_sample_8': array([ 3.5520501 , -0.19116918,  0.50801051])}"
     },
     "metadata": {},
     "execution_count": 10
    }
   ],
   "source": [
    "kb.lookup_table"
   ]
  },
  {
   "cell_type": "code",
   "execution_count": null,
   "metadata": {},
   "outputs": [],
   "source": []
  }
 ],
 "metadata": {
  "language_info": {
   "codemirror_mode": {
    "name": "ipython",
    "version": 3
   },
   "file_extension": ".py",
   "mimetype": "text/x-python",
   "name": "python",
   "nbconvert_exporter": "python",
   "pygments_lexer": "ipython3",
   "version": "2.7.17-final"
  },
  "orig_nbformat": 2,
  "kernelspec": {
   "name": "python271764bitvenvvenv4814a1786e3247db91e6ce1a5276f380",
   "display_name": "Python 2.7.17 64-bit ('.venv': venv)"
  }
 },
 "nbformat": 4,
 "nbformat_minor": 2
}