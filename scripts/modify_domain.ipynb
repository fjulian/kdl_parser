{
 "cells": [
  {
   "cell_type": "code",
   "execution_count": null,
   "metadata": {},
   "outputs": [],
   "source": [
    "from os import path\n",
    "import pickle"
   ]
  },
  {
   "cell_type": "code",
   "execution_count": null,
   "metadata": {},
   "outputs": [],
   "source": [
    "class MinimalKnowledgeBase(object):\n",
    "    def __init__(self, dom_file):\n",
    "        self._domain_file = dom_file\n",
    "\n",
    "    def load_domain(self):\n",
    "        print(\"Trying to load domain file...\")\n",
    "        if path.exists(self._domain_file):\n",
    "            with open(self._domain_file, \"rb\") as f:\n",
    "                load_obj = pickle.load(f)\n",
    "            self._domain_name = load_obj[0]\n",
    "            self._predicates = load_obj[1]\n",
    "            self.actions = load_obj[2]\n",
    "            self.types = load_obj[3]\n",
    "            self.objects = load_obj[4]\n",
    "            self.lookup_table = load_obj[5]\n",
    "            self.meta_actions = load_obj[6]\n",
    "            print(\"Trying to load domain file... DONE\")\n",
    "        else:\n",
    "            print(\"Trying to load domain file... NOT FOUND --> starting from scratch\")\n",
    "\n",
    "    def save_domain(self):\n",
    "        save_obj = (\n",
    "            self._domain_name,\n",
    "            self._predicates,\n",
    "            self.actions,\n",
    "            self.types,\n",
    "            self.objects,\n",
    "            self.lookup_table,\n",
    "            self.meta_actions,\n",
    "        )\n",
    "        with open(self._domain_file, \"wb\") as f:\n",
    "            pickle.dump(save_obj, f)\n",
    "        print(\"Saved domain file\")"
   ]
  },
  {
   "cell_type": "code",
   "execution_count": null,
   "metadata": {},
   "outputs": [],
   "source": [
    "kb = MinimalKnowledgeBase(path.join(\"..\",\"knowledge\",\"chimera\",\"main\",\"_domain.pkl\"))\n",
    "kb.load_domain()"
   ]
  },
  {
   "cell_type": "code",
   "execution_count": null,
   "metadata": {},
   "outputs": [],
   "source": [
    "kb.objects"
   ]
  },
  {
   "cell_type": "code",
   "execution_count": null,
   "metadata": {},
   "outputs": [],
   "source": [
    "kb.types = {a:b[0] for a,b in kb.types.items()}"
   ]
  },
  {
   "cell_type": "code",
   "execution_count": null,
   "metadata": {},
   "outputs": [],
   "source": [
    "kb.types"
   ]
  },
  {
   "cell_type": "code",
   "execution_count": null,
   "metadata": {},
   "outputs": [],
   "source": [
    "kb.save_domain()"
   ]
  },
  {
   "cell_type": "code",
   "execution_count": null,
   "metadata": {},
   "outputs": [],
   "source": []
  }
 ],
 "metadata": {
  "language_info": {
   "codemirror_mode": {
    "name": "ipython",
    "version": 3
   },
   "file_extension": ".py",
   "mimetype": "text/x-python",
   "name": "python",
   "nbconvert_exporter": "python",
   "pygments_lexer": "ipython3",
   "version": "2.7.17-final"
  },
  "orig_nbformat": 2,
  "kernelspec": {
   "name": "python271764bitvenvvenv4814a1786e3247db91e6ce1a5276f380",
   "display_name": "Python 2.7.17 64-bit ('.venv': venv)"
  }
 },
 "nbformat": 4,
 "nbformat_minor": 2
}