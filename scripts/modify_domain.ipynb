{
 "cells": [
  {
   "cell_type": "code",
   "execution_count": 1,
   "metadata": {},
   "outputs": [],
   "source": [
    "import os\n",
    "import pickle\n",
    "from highlevel_planning.knowledge.knowledge_base import KnowledgeBase"
   ]
  },
  {
   "cell_type": "code",
   "execution_count": 2,
   "metadata": {},
   "outputs": [
    {
     "output_type": "stream",
     "name": "stdout",
     "text": "Trying to load domain file...\nTrying to load domain file... DONE\n"
    }
   ],
   "source": [
    "kb = KnowledgeBase(os.path.join(\"..\",\"knowledge\", \"chimera\"))"
   ]
  },
  {
   "cell_type": "code",
   "execution_count": 3,
   "metadata": {},
   "outputs": [
    {
     "output_type": "execute_result",
     "data": {
      "text/plain": "{'container1': ['item'],\n 'container2': ['item'],\n 'cube1': ['cube1-200522233352'],\n 'cupboard': ['cupboard-200522233352'],\n 'lid1': ['cupboard-200522233352'],\n 'origin': ['position'],\n 'position_sample_206': ['position_sample_206-200522233352'],\n 'position_sample_206-200522233352_sample_10': ['position_sample_206-200522233352'],\n 'robot1': ['robot1-200522233352'],\n 'table': ['item']}"
     },
     "metadata": {},
     "execution_count": 3
    }
   ],
   "source": [
    "kb.objects"
   ]
  },
  {
   "cell_type": "code",
   "execution_count": null,
   "metadata": {},
   "outputs": [],
   "source": [
    "kb.types"
   ]
  },
  {
   "cell_type": "code",
   "execution_count": null,
   "metadata": {},
   "outputs": [],
   "source": [
    "kb.actions"
   ]
  },
  {
   "cell_type": "code",
   "execution_count": null,
   "metadata": {},
   "outputs": [],
   "source": [
    "kb.lookup_table"
   ]
  },
  {
   "cell_type": "code",
   "execution_count": null,
   "metadata": {},
   "outputs": [],
   "source": []
  }
 ],
 "metadata": {
  "language_info": {
   "codemirror_mode": {
    "name": "ipython",
    "version": 3
   },
   "file_extension": ".py",
   "mimetype": "text/x-python",
   "name": "python",
   "nbconvert_exporter": "python",
   "pygments_lexer": "ipython3",
   "version": "2.7.17-final"
  },
  "orig_nbformat": 2,
  "kernelspec": {
   "name": "python271764bitvenvvenv4814a1786e3247db91e6ce1a5276f380",
   "display_name": "Python 2.7.17 64-bit ('.venv': venv)"
  }
 },
 "nbformat": 4,
 "nbformat_minor": 2
}